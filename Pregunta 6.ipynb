{
 "cells": [
  {
   "cell_type": "code",
   "execution_count": 1,
   "id": "db0816e4-0a3d-4b2f-bbc3-72964e7db921",
   "metadata": {},
   "outputs": [],
   "source": [
    "import numpy as np"
   ]
  },
  {
   "cell_type": "code",
   "execution_count": 9,
   "id": "c183a98f-1998-4f4e-a438-166865a326d7",
   "metadata": {},
   "outputs": [
    {
     "name": "stdout",
     "output_type": "stream",
     "text": [
      "n^2 + m^2:\n",
      "[[ 0  1  4  9 16 25 36]\n",
      " [ 1  2  5 10 17 26 37]\n",
      " [ 4  5  8 13 20 29 40]\n",
      " [ 9 10 13 18 25 34 45]\n",
      " [16 17 20 25 32 41 52]\n",
      " [25 26 29 34 41 50 61]\n",
      " [36 37 40 45 52 61 72]]\n",
      "Las secuencias de residuos cuadráticos son:\n",
      "[[0 1 4 2 2 4 1]\n",
      " [1 2 5 3 3 5 2]\n",
      " [4 5 1 6 6 1 5]\n",
      " [2 3 6 4 4 6 3]\n",
      " [2 3 6 4 4 6 3]\n",
      " [4 5 1 6 6 1 5]\n",
      " [1 2 5 3 3 5 2]]\n"
     ]
    }
   ],
   "source": [
    "#Variables\n",
    "c_o=344      #Velocidad del sonido\n",
    "f_max=2420   #Frecuencia máxima\n",
    "f_o=1385      #Frecuencia mínima\n",
    "N=7 \n",
    "\n",
    "#n y m son igual a N, ya que, range() ya se encarga de contar desde el 0 hasta N-1\n",
    "n = N\n",
    "m = N\n",
    "nm2 = np.array([[0 for x in range(n)] for y in range(m)])\n",
    "\n",
    "#Calcular s_[n,m]\n",
    "for i in range(m):\n",
    "    for j in range(n):\n",
    "        nm2[i][j] = i**2+j**2\n",
    "        snm= nm2%N\n",
    "\n",
    "print(\"n^2 + m^2:\")\n",
    "print(nm2)\n",
    "print(\"Las secuencias de residuos cuadráticos son:\")\n",
    "print(snm)"
   ]
  },
  {
   "cell_type": "code",
   "execution_count": 10,
   "id": "bb8cbcd0-1b20-4186-bc11-95f7815b53ad",
   "metadata": {},
   "outputs": [
    {
     "name": "stdout",
     "output_type": "stream",
     "text": [
      "Las profundidades de las ranuras son:\n",
      "[[0.      0.01774 0.07096 0.03548 0.03548 0.07096 0.01774]\n",
      " [0.01774 0.03548 0.08871 0.05322 0.05322 0.08871 0.03548]\n",
      " [0.07096 0.08871 0.01774 0.10645 0.10645 0.01774 0.08871]\n",
      " [0.03548 0.05322 0.10645 0.07096 0.07096 0.10645 0.05322]\n",
      " [0.03548 0.05322 0.10645 0.07096 0.07096 0.10645 0.05322]\n",
      " [0.07096 0.08871 0.01774 0.10645 0.10645 0.01774 0.08871]\n",
      " [0.01774 0.03548 0.08871 0.05322 0.05322 0.08871 0.03548]] m\n"
     ]
    }
   ],
   "source": [
    "#Calcular d_[n,m]\n",
    "dnm= (snm*c_o)/(2*N*f_o)\n",
    "print(\"Las profundidades de las ranuras son:\")\n",
    "print(np.round(dnm,5), \"m\")"
   ]
  },
  {
   "cell_type": "code",
   "execution_count": 11,
   "id": "fb3bb342-2ad4-4a95-977c-792c1596620c",
   "metadata": {},
   "outputs": [
    {
     "name": "stdout",
     "output_type": "stream",
     "text": [
      "El ancho de las ranuras es: 0.07107 mm\n"
     ]
    }
   ],
   "source": [
    "#Calcular w\n",
    "w= c_o/(2*f_max)\n",
    "print(\"El ancho de las ranuras es:\", np.round(w,5), \"mm\")"
   ]
  }
 ],
 "metadata": {
  "kernelspec": {
   "display_name": "acus125",
   "language": "python",
   "name": "acus125"
  },
  "language_info": {
   "codemirror_mode": {
    "name": "ipython",
    "version": 3
   },
   "file_extension": ".py",
   "mimetype": "text/x-python",
   "name": "python",
   "nbconvert_exporter": "python",
   "pygments_lexer": "ipython3",
   "version": "3.10.13"
  }
 },
 "nbformat": 4,
 "nbformat_minor": 5
}
