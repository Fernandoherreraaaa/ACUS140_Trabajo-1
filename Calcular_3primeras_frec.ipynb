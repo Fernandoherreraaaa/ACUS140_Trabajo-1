{
 "cells": [
  {
   "cell_type": "code",
   "execution_count": 14,
   "id": "ea1463e5-6a32-4291-ba04-a3be9df012d6",
   "metadata": {},
   "outputs": [],
   "source": [
    "import numpy as np\n",
    "import matplotlib.pyplot as plt"
   ]
  },
  {
   "cell_type": "code",
   "execution_count": 15,
   "id": "d72abe97-f785-4721-9676-94bc5264d1d9",
   "metadata": {},
   "outputs": [],
   "source": [
    "def calculomodos (Nx,Ny,Nz,lx,ly,lz,c0):\n",
    "    #Nx,Ny,Nz son los maximos numeros cuanticos      \n",
    " \n",
    "    f=[]\n",
    "    d=[]\n",
    "\n",
    "    for nx in range(Nx):\n",
    "        for ny in range(Ny):\n",
    "            for nz in range(Nz):\n",
    "                frec=(c0/2)*np.sqrt((nx/lx)**2+(ny/ly)**2+(nz/lz)**2)\n",
    "                if nx!=0 and ny!=0 and nz!=0:\n",
    "                    A=\"Modo oblicuo\"\n",
    "                if (nx==0) and ((ny!=0 and nz!=0)):\n",
    "                    A=\"Modo tangencial\"\n",
    "                if (ny==0) and ((nx!=0 and nz!=0)):\n",
    "                    A=\"Modo tangencial\"\n",
    "                if (nz==0) and ((ny!=0 and nx!=0)):\n",
    "                    A=\"Modo tangencial\"\n",
    "                if nx==0 and (ny==0 or nz==0):\n",
    "                    A=\"Modo axial\"\n",
    "                if ny==0 and (nx==0 or nz==0):\n",
    "                    A=\"Modo axial\"\n",
    "                if nz==0 and (ny==0 or nx==0):\n",
    "                    A=\"Modo axial\"            \n",
    "                f.append((frec,A,nx,ny,nz))\n",
    "    listaordenada=sorted(f)\n",
    "    listatrunca=listaordenada[1:4]     #cuenta las primeras 4 pero sin el trivial(0,mod,0,0,0) quedan 3 \n",
    "    print(\"Lista de los primeros 3 modos, sus frecuencias y numeros cuanticos\",listatrunca)      \n",
    " "
   ]
  },
  {
   "cell_type": "code",
   "execution_count": 16,
   "id": "a2b1c672-aa31-4a83-aa75-d6152d27ce2c",
   "metadata": {},
   "outputs": [
    {
     "name": "stdout",
     "output_type": "stream",
     "text": [
      "Lista de los primeros 3 modos, sus frecuencias y numeros cuanticos [(19.058171745152354, 'Modo axial', 1, 0, 0), (34.288903951198115, 'Modo axial', 0, 1, 0), (38.11634349030471, 'Modo axial', 2, 0, 0)]\n"
     ]
    }
   ],
   "source": [
    "calculomodos(15,15,15,9.0250,5.0162,2.5075,344)"
   ]
  }
 ],
 "metadata": {
  "kernelspec": {
   "display_name": "acus125",
   "language": "python",
   "name": "acus125"
  },
  "language_info": {
   "codemirror_mode": {
    "name": "ipython",
    "version": 3
   },
   "file_extension": ".py",
   "mimetype": "text/x-python",
   "name": "python",
   "nbconvert_exporter": "python",
   "pygments_lexer": "ipython3",
   "version": "3.10.13"
  }
 },
 "nbformat": 4,
 "nbformat_minor": 5
}
